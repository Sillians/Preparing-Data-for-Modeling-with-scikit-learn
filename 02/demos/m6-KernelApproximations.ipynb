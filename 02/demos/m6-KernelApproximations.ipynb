{
 "cells": [
  {
   "cell_type": "markdown",
   "metadata": {},
   "source": [
    "#### An example illustrating the approximation of the feature map of an RBF kernel.\n",
    "\n",
    "It shows how to use `RBFSampler` and `Nystroem` to approximate the feature map of an `RBF kernel` for `classification` with an `SVM` on the digits dataset. Results using a `linear SVM` in the original space, a `linear SVM` using the approximate mappings and using a `kernelized SVM` are compared. `Timings` and `accuracy` for varying amounts of `Monte Carlo samplings` (in the case of `RBFSampler`, which uses `random Fourier features`) and different sized subsets of the training set (for `Nystroem`) for the approximate mapping are shown. "
   ]
  },
  {
   "cell_type": "code",
   "execution_count": 1,
   "metadata": {},
   "outputs": [],
   "source": [
    "import sklearn\n",
    "\n",
    "import pandas as pd\n",
    "import numpy as np\n",
    "import matplotlib.pyplot as plt"
   ]
  },
  {
   "cell_type": "markdown",
   "metadata": {},
   "source": [
    "### Letters Classification\n",
    "Source: https://www.kaggle.com/sachinpatel21/az-handwritten-alphabets-in-csv-format"
   ]
  },
  {
   "cell_type": "code",
   "execution_count": 2,
   "metadata": {},
   "outputs": [
    {
     "data": {
      "text/html": [
       "<div>\n",
       "<style scoped>\n",
       "    .dataframe tbody tr th:only-of-type {\n",
       "        vertical-align: middle;\n",
       "    }\n",
       "\n",
       "    .dataframe tbody tr th {\n",
       "        vertical-align: top;\n",
       "    }\n",
       "\n",
       "    .dataframe thead th {\n",
       "        text-align: right;\n",
       "    }\n",
       "</style>\n",
       "<table border=\"1\" class=\"dataframe\">\n",
       "  <thead>\n",
       "    <tr style=\"text-align: right;\">\n",
       "      <th></th>\n",
       "      <th>0</th>\n",
       "      <th>1</th>\n",
       "      <th>2</th>\n",
       "      <th>3</th>\n",
       "      <th>4</th>\n",
       "      <th>5</th>\n",
       "      <th>6</th>\n",
       "      <th>7</th>\n",
       "      <th>8</th>\n",
       "      <th>9</th>\n",
       "      <th>...</th>\n",
       "      <th>775</th>\n",
       "      <th>776</th>\n",
       "      <th>777</th>\n",
       "      <th>778</th>\n",
       "      <th>779</th>\n",
       "      <th>780</th>\n",
       "      <th>781</th>\n",
       "      <th>782</th>\n",
       "      <th>783</th>\n",
       "      <th>784</th>\n",
       "    </tr>\n",
       "  </thead>\n",
       "  <tbody>\n",
       "    <tr>\n",
       "      <th>493</th>\n",
       "      <td>0</td>\n",
       "      <td>0</td>\n",
       "      <td>0</td>\n",
       "      <td>0</td>\n",
       "      <td>0</td>\n",
       "      <td>0</td>\n",
       "      <td>0</td>\n",
       "      <td>0</td>\n",
       "      <td>0</td>\n",
       "      <td>0</td>\n",
       "      <td>...</td>\n",
       "      <td>0</td>\n",
       "      <td>0</td>\n",
       "      <td>0</td>\n",
       "      <td>0</td>\n",
       "      <td>0</td>\n",
       "      <td>0</td>\n",
       "      <td>0</td>\n",
       "      <td>0</td>\n",
       "      <td>0</td>\n",
       "      <td>0</td>\n",
       "    </tr>\n",
       "    <tr>\n",
       "      <th>183488</th>\n",
       "      <td>14</td>\n",
       "      <td>0</td>\n",
       "      <td>0</td>\n",
       "      <td>0</td>\n",
       "      <td>0</td>\n",
       "      <td>0</td>\n",
       "      <td>0</td>\n",
       "      <td>0</td>\n",
       "      <td>0</td>\n",
       "      <td>0</td>\n",
       "      <td>...</td>\n",
       "      <td>0</td>\n",
       "      <td>0</td>\n",
       "      <td>0</td>\n",
       "      <td>0</td>\n",
       "      <td>0</td>\n",
       "      <td>0</td>\n",
       "      <td>0</td>\n",
       "      <td>0</td>\n",
       "      <td>0</td>\n",
       "      <td>0</td>\n",
       "    </tr>\n",
       "    <tr>\n",
       "      <th>58998</th>\n",
       "      <td>4</td>\n",
       "      <td>0</td>\n",
       "      <td>0</td>\n",
       "      <td>0</td>\n",
       "      <td>0</td>\n",
       "      <td>0</td>\n",
       "      <td>0</td>\n",
       "      <td>0</td>\n",
       "      <td>0</td>\n",
       "      <td>0</td>\n",
       "      <td>...</td>\n",
       "      <td>0</td>\n",
       "      <td>0</td>\n",
       "      <td>0</td>\n",
       "      <td>0</td>\n",
       "      <td>0</td>\n",
       "      <td>0</td>\n",
       "      <td>0</td>\n",
       "      <td>0</td>\n",
       "      <td>0</td>\n",
       "      <td>0</td>\n",
       "    </tr>\n",
       "    <tr>\n",
       "      <th>210835</th>\n",
       "      <td>15</td>\n",
       "      <td>0</td>\n",
       "      <td>0</td>\n",
       "      <td>0</td>\n",
       "      <td>0</td>\n",
       "      <td>0</td>\n",
       "      <td>0</td>\n",
       "      <td>0</td>\n",
       "      <td>0</td>\n",
       "      <td>0</td>\n",
       "      <td>...</td>\n",
       "      <td>0</td>\n",
       "      <td>0</td>\n",
       "      <td>0</td>\n",
       "      <td>0</td>\n",
       "      <td>0</td>\n",
       "      <td>0</td>\n",
       "      <td>0</td>\n",
       "      <td>0</td>\n",
       "      <td>0</td>\n",
       "      <td>0</td>\n",
       "    </tr>\n",
       "    <tr>\n",
       "      <th>195630</th>\n",
       "      <td>14</td>\n",
       "      <td>0</td>\n",
       "      <td>0</td>\n",
       "      <td>0</td>\n",
       "      <td>0</td>\n",
       "      <td>0</td>\n",
       "      <td>0</td>\n",
       "      <td>0</td>\n",
       "      <td>0</td>\n",
       "      <td>0</td>\n",
       "      <td>...</td>\n",
       "      <td>0</td>\n",
       "      <td>0</td>\n",
       "      <td>0</td>\n",
       "      <td>0</td>\n",
       "      <td>0</td>\n",
       "      <td>0</td>\n",
       "      <td>0</td>\n",
       "      <td>0</td>\n",
       "      <td>0</td>\n",
       "      <td>0</td>\n",
       "    </tr>\n",
       "  </tbody>\n",
       "</table>\n",
       "<p>5 rows × 785 columns</p>\n",
       "</div>"
      ],
      "text/plain": [
       "        0    1    2    3    4    5    6    7    8    9    ...  775  776  777  \\\n",
       "493       0    0    0    0    0    0    0    0    0    0  ...    0    0    0   \n",
       "183488   14    0    0    0    0    0    0    0    0    0  ...    0    0    0   \n",
       "58998     4    0    0    0    0    0    0    0    0    0  ...    0    0    0   \n",
       "210835   15    0    0    0    0    0    0    0    0    0  ...    0    0    0   \n",
       "195630   14    0    0    0    0    0    0    0    0    0  ...    0    0    0   \n",
       "\n",
       "        778  779  780  781  782  783  784  \n",
       "493       0    0    0    0    0    0    0  \n",
       "183488    0    0    0    0    0    0    0  \n",
       "58998     0    0    0    0    0    0    0  \n",
       "210835    0    0    0    0    0    0    0  \n",
       "195630    0    0    0    0    0    0    0  \n",
       "\n",
       "[5 rows x 785 columns]"
      ]
     },
     "execution_count": 2,
     "metadata": {},
     "output_type": "execute_result"
    }
   ],
   "source": [
    "letters_data = pd.read_csv('datasets/A_Z Handwritten Data.csv', header=None)\n",
    "\n",
    "letters_data.sample(5)"
   ]
  },
  {
   "cell_type": "code",
   "execution_count": 3,
   "metadata": {},
   "outputs": [
    {
     "data": {
      "text/plain": [
       "(372451, 785)"
      ]
     },
     "execution_count": 3,
     "metadata": {},
     "output_type": "execute_result"
    }
   ],
   "source": [
    "letters_data.shape"
   ]
  },
  {
   "cell_type": "code",
   "execution_count": 4,
   "metadata": {},
   "outputs": [
    {
     "data": {
      "text/plain": [
       "(3725, 785)"
      ]
     },
     "execution_count": 4,
     "metadata": {},
     "output_type": "execute_result"
    }
   ],
   "source": [
    "letters_data = letters_data.sample(frac=0.01).reset_index(drop=True)\n",
    "\n",
    "letters_data.shape"
   ]
  },
  {
   "cell_type": "code",
   "execution_count": 5,
   "metadata": {},
   "outputs": [
    {
     "data": {
      "text/plain": [
       "[0,\n",
       " 1,\n",
       " 2,\n",
       " 3,\n",
       " 4,\n",
       " 5,\n",
       " 6,\n",
       " 7,\n",
       " 8,\n",
       " 9,\n",
       " 10,\n",
       " 11,\n",
       " 12,\n",
       " 13,\n",
       " 14,\n",
       " 15,\n",
       " 16,\n",
       " 17,\n",
       " 18,\n",
       " 19,\n",
       " 20,\n",
       " 21,\n",
       " 22,\n",
       " 23,\n",
       " 24,\n",
       " 25]"
      ]
     },
     "execution_count": 5,
     "metadata": {},
     "output_type": "execute_result"
    }
   ],
   "source": [
    "sorted(letters_data[0].unique())"
   ]
  },
  {
   "cell_type": "markdown",
   "metadata": {},
   "source": [
    "##### Creating lookup table"
   ]
  },
  {
   "cell_type": "code",
   "execution_count": 6,
   "metadata": {},
   "outputs": [],
   "source": [
    "LOOKUP = { 0: 'A', 1: 'B', 2: 'C', 3: 'D', \n",
    "          4: 'E', 5: 'F', 6: 'G', 7: 'H', \n",
    "          8: 'I', 9: 'J',10: 'K', 11: 'L', \n",
    "          12: 'M', 13: 'N', 14: 'O', 15: 'P', \n",
    "          16: 'Q', 17: 'R', 18: 'S',19: 'T', \n",
    "          20: 'U', 21: 'V', 22: 'W', 23: 'X', \n",
    "          24: 'Y', 25: 'Z'}"
   ]
  },
  {
   "cell_type": "markdown",
   "metadata": {},
   "source": [
    "#### Function for displaying letters"
   ]
  },
  {
   "cell_type": "code",
   "execution_count": 7,
   "metadata": {},
   "outputs": [],
   "source": [
    "def display_image(features, actual_label):\n",
    "    \n",
    "    print(\"Actual label: \", LOOKUP[actual_label])\n",
    "    \n",
    "    plt.imshow(features.reshape(28, 28), cmap='Greys')\n",
    "    \n",
    "    plt.show()"
   ]
  },
  {
   "cell_type": "code",
   "execution_count": 8,
   "metadata": {},
   "outputs": [],
   "source": [
    "X = letters_data[letters_data.columns[1:]]\n",
    "\n",
    "Y = letters_data[0]"
   ]
  },
  {
   "cell_type": "code",
   "execution_count": 9,
   "metadata": {},
   "outputs": [
    {
     "data": {
      "text/plain": [
       "16"
      ]
     },
     "execution_count": 9,
     "metadata": {},
     "output_type": "execute_result"
    }
   ],
   "source": [
    "Y.loc[5]"
   ]
  },
  {
   "cell_type": "code",
   "execution_count": 10,
   "metadata": {},
   "outputs": [
    {
     "data": {
      "text/plain": [
       "array([  0,   0,   0,   0,   0,   0,   0,   0,   0,   0,   0,   0,   0,\n",
       "         0,   0,   0,   0,   0,   0,   0,   0,   0,   0,   0,   0,  92,\n",
       "       207, 243, 163,  68,   0,   0,   0,   0,   0,   0,   0,   0,   0,\n",
       "         0,   0,   0,   0,   0,   0,   0,   0,   0,   0,   0,   0,   0,\n",
       "         0,   0,  34,  50, 156, 249, 152,   6,   0,   0,   0,   0,   0,\n",
       "         0,   0,   0,   0,   0,   0,   0,   0,   0,   0,   0,   0,   0,\n",
       "         0,   0,   0,  59, 244, 192,   3,  96, 253, 133,   0,   0,   0,\n",
       "         0,   0,   0,   0,   0,   0,   0,   0,   0,   0,   0,   0,   0,\n",
       "         0,   0,   0,   0,  71, 212, 255, 173,   0,   0, 139, 247,  59,\n",
       "         0,   0,   0,   0,   0,   0,   0,   0,   0,   0,   0,   0,   0,\n",
       "         0,   0,   0,   0,   0, 115, 253, 172, 119,   9,   0,   0,   3,\n",
       "       230, 176,   0,   0,   0,   0,   0,   0,   0,   0,   0,   0,   0,\n",
       "         0,   0,   0,   0,   0,   0, 110, 251, 136,   7,   0,   0,   0,\n",
       "         0,   0, 108, 253,  66,   0,   0,   0,   0,   0,   0,   0,   0,\n",
       "         0,   0,   0,   0,   0,   0,   0, 123, 255, 116,   0,   0,   0,\n",
       "         0,   0,   0,   0,  34, 255, 119,   0,   0,   0,   0,   0,   0,\n",
       "         0,   0,   0,   0,   0,   0,   0,   0, 123, 254,  99,   0,   0,\n",
       "         0,   0,   0,   0,   0,   0,  34, 255, 167,   0,   0,   0,   0,\n",
       "         0,   0,   0,   0,   0,   0,   0,   0,   0,  60, 251, 147,   0,\n",
       "         0,   0,   0,   0,   0,   0,   0,   0,  34, 255, 229,   0,   0,\n",
       "         0,   0,   0,   0,   0,   0,   0,   0,   0,   0,  14, 230, 204,\n",
       "        10,   0,   0,   0,   0,   0,   0,   0,   0,   0,  34, 255, 255,\n",
       "         0,   0,   0,   0,   0,   0,   0,   0,   0,   0,   0,   0, 113,\n",
       "       249,  64,   0,   0,   0,   0,   0,  10, 149,  60,   0,   0,  34,\n",
       "       255, 224,   0,   0,   0,   0,   0,   0,   0,   0,   0,   0,   0,\n",
       "         0, 194, 221,   0,   0,   0,   0,   0,   0,  18, 185, 225,  66,\n",
       "         0,  60, 255, 125,   0,   0,   0,   0,   0,   0,   0,   0,   0,\n",
       "         0,   0,   0, 255, 164,   0,   0,   0,   0,   0,   0,   0,  15,\n",
       "       177, 244,  80, 143, 255,  79,   0,   0,   0,   0,   0,   0,   0,\n",
       "         0,   0,   0,   0,   0, 255, 153,   0,   0,   0,   0,   0,   0,\n",
       "         0,   0,  21, 183, 255, 255, 172,   0,   0,   0,   0,   0,   0,\n",
       "         0,   0,   0,   0,   0,   0,   0, 246, 162,   0,   0,   0,   0,\n",
       "         0,   0,   0,   5,  57, 203, 255, 237,  19,   0,   0,   0,   0,\n",
       "         0,   0,   0,   0,   0,   0,   0,   0,   0, 161, 241,  69,  14,\n",
       "         0,   6,  14,  51,  96, 202, 255, 226, 233, 255,  74,   0,   0,\n",
       "         0,   0,   0,   0,   0,   0,   0,   0,   0,   0,   0,  11, 192,\n",
       "       255, 255, 200, 222, 255, 255, 243, 184,  83,  11, 187, 255, 155,\n",
       "         0,   0,   0,   0,   0,   0,   0,   0,   0,   0,   0,   0,   0,\n",
       "         0,   1,  48,  76, 126, 136,  76,  39,   6,   0,   0,   0,  88,\n",
       "       248, 170,   0,   0,   0,   0,   0,   0,   0,   0,   0,   0,   0,\n",
       "         0,   0,   0,   0,   0,   0,   0,   0,   0,   0,   0,   0,   0,\n",
       "         0,   0, 238, 170,   0,   0,   0,   0,   0,   0,   0,   0,   0,\n",
       "         0,   0,   0,   0], dtype=int64)"
      ]
     },
     "execution_count": 10,
     "metadata": {},
     "output_type": "execute_result"
    }
   ],
   "source": [
    "X.loc[5].values[100:650]"
   ]
  },
  {
   "cell_type": "code",
   "execution_count": 11,
   "metadata": {},
   "outputs": [
    {
     "name": "stdout",
     "output_type": "stream",
     "text": [
      "Actual label:  C\n"
     ]
    },
    {
     "data": {
      "image/png": "[encoded data removed]",
      "text/plain": [
       "<Figure size 432x288 with 1 Axes>"
      ]
     },
     "metadata": {
      "needs_background": "light"
     },
     "output_type": "display_data"
    }
   ],
   "source": [
    "display_image(X.loc[345].values, Y.loc[345])"
   ]
  },
  {
   "cell_type": "code",
   "execution_count": 12,
   "metadata": {},
   "outputs": [
    {
     "name": "stdout",
     "output_type": "stream",
     "text": [
      "Actual label:  Q\n"
     ]
    },
    {
     "data": {
      "image/png": "[encoded data removed]",
      "text/plain": [
       "<Figure size 432x288 with 1 Axes>"
      ]
     },
     "metadata": {
      "needs_background": "light"
     },
     "output_type": "display_data"
    }
   ],
   "source": [
    "display_image(X.loc[5].values, Y.loc[5])"
   ]
  },
  {
   "cell_type": "code",
   "execution_count": 13,
   "metadata": {},
   "outputs": [
    {
     "name": "stdout",
     "output_type": "stream",
     "text": [
      "Actual label:  A\n"
     ]
    },
    {
     "data": {
      "image/png": "[encoded data removed]",
      "text/plain": [
       "<Figure size 432x288 with 1 Axes>"
      ]
     },
     "metadata": {
      "needs_background": "light"
     },
     "output_type": "display_data"
    }
   ],
   "source": [
    "display_image(X.loc[550].values, Y.loc[550])"
   ]
  },
  {
   "cell_type": "code",
   "execution_count": 14,
   "metadata": {},
   "outputs": [
    {
     "name": "stdout",
     "output_type": "stream",
     "text": [
      "Actual label:  C\n"
     ]
    },
    {
     "data": {
      "image/png": "[encoded data removed]",
      "text/plain": [
       "<Figure size 432x288 with 1 Axes>"
      ]
     },
     "metadata": {
      "needs_background": "light"
     },
     "output_type": "display_data"
    }
   ],
   "source": [
    "display_image(X.loc[3723].values, Y.loc[3723])"
   ]
  },
  {
   "cell_type": "code",
   "execution_count": 17,
   "metadata": {},
   "outputs": [],
   "source": [
    "X = X / 255.  # Scale to be in the range of 0 to 1\n",
    "\n",
    "X -= X.mean(axis=0)"
   ]
  },
  {
   "cell_type": "code",
   "execution_count": 19,
   "metadata": {},
   "outputs": [
    {
     "data": {
      "text/plain": [
       "array([0., 0., 0., 0., 0., 0., 0., 0., 0., 0.])"
      ]
     },
     "execution_count": 19,
     "metadata": {},
     "output_type": "execute_result"
    }
   ],
   "source": [
    "X.loc[5].values[100:110]"
   ]
  },
  {
   "cell_type": "code",
   "execution_count": 21,
   "metadata": {},
   "outputs": [],
   "source": [
    "# X.loc[15].values[345:453]"
   ]
  },
  {
   "cell_type": "code",
   "execution_count": 22,
   "metadata": {},
   "outputs": [
    {
     "data": {
      "text/plain": [
       "3725"
      ]
     },
     "execution_count": 22,
     "metadata": {},
     "output_type": "execute_result"
    }
   ],
   "source": [
    "n_samples = len(letters_data)\n",
    "n_samples"
   ]
  },
  {
   "cell_type": "code",
   "execution_count": 23,
   "metadata": {},
   "outputs": [],
   "source": [
    "# We learn the digits on the first half of the digits\n",
    "data_train, labels_train = (X[:n_samples // 2],\n",
    "                            Y[:n_samples // 2])"
   ]
  },
  {
   "cell_type": "code",
   "execution_count": 24,
   "metadata": {},
   "outputs": [],
   "source": [
    "# Now predict the value of the digit on the second half:\n",
    "data_test, labels_test = (X[n_samples // 2:],\n",
    "                          Y[n_samples // 2:])"
   ]
  },
  {
   "cell_type": "code",
   "execution_count": 25,
   "metadata": {},
   "outputs": [
    {
     "data": {
      "text/plain": [
       "((1862, 784), (1862,))"
      ]
     },
     "execution_count": 25,
     "metadata": {},
     "output_type": "execute_result"
    }
   ],
   "source": [
    "data_train.shape, labels_train.shape"
   ]
  },
  {
   "cell_type": "code",
   "execution_count": 26,
   "metadata": {},
   "outputs": [
    {
     "data": {
      "text/plain": [
       "((1863, 784), (1863,))"
      ]
     },
     "execution_count": 26,
     "metadata": {},
     "output_type": "execute_result"
    }
   ],
   "source": [
    "data_test.shape, labels_test.shape"
   ]
  },
  {
   "cell_type": "code",
   "execution_count": 29,
   "metadata": {},
   "outputs": [],
   "source": [
    "# Import classifiers and performance metrics\n",
    "from time import time\n",
    "from sklearn import svm, pipeline\n",
    "from sklearn.kernel_approximation import RBFSampler, Nystroem"
   ]
  },
  {
   "cell_type": "markdown",
   "metadata": {},
   "source": [
    "##### Initializing the classifier\n",
    "we are initializing the linear SVC and SVC and creating a pipeline from kernel approximation and linear SVC"
   ]
  },
  {
   "cell_type": "code",
   "execution_count": 30,
   "metadata": {},
   "outputs": [],
   "source": [
    "# Create a classifier: a support vector classifier\n",
    "kernel_svm = svm.SVC(gamma=0.01)\n",
    "\n",
    "linear_svm = svm.LinearSVC()"
   ]
  },
  {
   "cell_type": "code",
   "execution_count": 31,
   "metadata": {},
   "outputs": [],
   "source": [
    "# create pipeline from kernel approximation\n",
    "# and linear svm\n",
    "rbf_approx_svm = pipeline.Pipeline([\n",
    "    ('rbf_sampler', RBFSampler(gamma=0.01, random_state=1)), \n",
    "    ('svm', svm.LinearSVC())\n",
    "])"
   ]
  },
  {
   "cell_type": "code",
   "execution_count": 32,
   "metadata": {},
   "outputs": [],
   "source": [
    "nystroem_approx_svm = pipeline.Pipeline([\n",
    "    ('nystroem', Nystroem(gamma=0.01, random_state=1)),\n",
    "    ('svm', svm.LinearSVC())\n",
    "])"
   ]
  },
  {
   "cell_type": "markdown",
   "metadata": {},
   "source": [
    "Measuring the accuracy and training time for SVC"
   ]
  },
  {
   "cell_type": "code",
   "execution_count": 33,
   "metadata": {},
   "outputs": [
    {
     "name": "stdout",
     "output_type": "stream",
     "text": [
      "Score:  0.15083199141170156\n",
      "Runtime:  8.402267694473267\n"
     ]
    }
   ],
   "source": [
    "# fit and predict using kernel svm:\n",
    "\n",
    "start = time()\n",
    "\n",
    "kernel_svm.fit(data_train, labels_train)\n",
    "kernel_svm_score = kernel_svm.score(data_test, labels_test)\n",
    "\n",
    "kernel_svm_time = time() - start\n",
    "\n",
    "print('Score: ', kernel_svm_score)\n",
    "print('Runtime: ', kernel_svm_time)"
   ]
  },
  {
   "cell_type": "markdown",
   "metadata": {},
   "source": [
    "Measuring the accuraccy and training time for Linear SVC "
   ]
  },
  {
   "cell_type": "code",
   "execution_count": 34,
   "metadata": {},
   "outputs": [
    {
     "name": "stdout",
     "output_type": "stream",
     "text": [
      "Score:  0.27428878153515834\n",
      "Runtime:  2.340487241744995\n"
     ]
    }
   ],
   "source": [
    "# fit and predict using linear svm:\n",
    "\n",
    "start = time()\n",
    "\n",
    "linear_svm.fit(data_train, labels_train)\n",
    "linear_svm_score = linear_svm.score(data_test, labels_test)\n",
    "\n",
    "linear_svm_time = time() - start\n",
    "\n",
    "print('Score: ', linear_svm_score)\n",
    "print('Runtime: ', linear_svm_time)"
   ]
  },
  {
   "cell_type": "markdown",
   "metadata": {},
   "source": [
    "Changing the C value because model did not converge and again measuring the accuracy and training time"
   ]
  },
  {
   "cell_type": "code",
   "execution_count": 36,
   "metadata": {},
   "outputs": [
    {
     "name": "stdout",
     "output_type": "stream",
     "text": [
      "Score:  0.7557702630166399\n",
      "Runtime:  1.3526630401611328\n"
     ]
    }
   ],
   "source": [
    "start = time()\n",
    "\n",
    "linear_svm.set_params(C=0.1)\n",
    "linear_svm.fit(data_train, labels_train)\n",
    "linear_svm_score = linear_svm.score(data_test, labels_test)\n",
    "\n",
    "linear_svm_time = time() - start\n",
    "\n",
    "print('Score: ', linear_svm_score)\n",
    "print('Runtime: ', linear_svm_time)"
   ]
  },
  {
   "cell_type": "markdown",
   "metadata": {},
   "source": [
    "Measuring accuracy and training time for Linear SVC using RBFSampler kernel approx."
   ]
  },
  {
   "cell_type": "code",
   "execution_count": 37,
   "metadata": {},
   "outputs": [
    {
     "name": "stdout",
     "output_type": "stream",
     "text": [
      "Score:  0.7439613526570048\n",
      "Runtime:  3.0124878883361816\n"
     ]
    }
   ],
   "source": [
    "start = time()\n",
    "\n",
    "rbf_approx_svm.set_params(rbf_sampler__n_components=len(data_train))\n",
    "rbf_approx_svm.set_params(svm__C=0.1)\n",
    "\n",
    "rbf_approx_svm.fit(data_train, labels_train)\n",
    "rbf_approx_svm_score = rbf_approx_svm.score(data_test, labels_test)\n",
    "\n",
    "rbf_approx_svm_time = time() - start\n",
    "\n",
    "print('Score: ', rbf_approx_svm_score)\n",
    "print('Runtime: ', rbf_approx_svm_time)"
   ]
  },
  {
   "cell_type": "markdown",
   "metadata": {},
   "source": [
    "Measuring accuracy and training time for Linear SVC using Nystroem kernel approx."
   ]
  },
  {
   "cell_type": "code",
   "execution_count": 38,
   "metadata": {},
   "outputs": [
    {
     "name": "stdout",
     "output_type": "stream",
     "text": [
      "Score:  0.7498658078368223\n",
      "Runtime:  7.749323844909668\n"
     ]
    }
   ],
   "source": [
    "start = time()\n",
    "\n",
    "nystroem_approx_svm.set_params(nystroem__n_components=len(data_train))\n",
    "nystroem_approx_svm.set_params(svm__C=0.1)\n",
    "\n",
    "nystroem_approx_svm.fit(data_train, labels_train)\n",
    "nystroem_approx_svm_score = nystroem_approx_svm.score(data_test, labels_test)\n",
    "\n",
    "nystroem_approx_svm_time = time() - start\n",
    "\n",
    "print('Score: ', nystroem_approx_svm_score)\n",
    "print('Runtime: ', nystroem_approx_svm_time)"
   ]
  },
  {
   "cell_type": "markdown",
   "metadata": {},
   "source": [
    "Changing the C value and then again measuring accuracy and training time for Linear SVC using RBFSampler kernel approx. and Nystroem kernel approx. Now accuracy is increased."
   ]
  },
  {
   "cell_type": "code",
   "execution_count": 39,
   "metadata": {},
   "outputs": [
    {
     "name": "stdout",
     "output_type": "stream",
     "text": [
      "Score:  0.8346752549651101\n",
      "Runtime:  3.922372817993164\n"
     ]
    }
   ],
   "source": [
    "start = time()\n",
    "\n",
    "rbf_approx_svm.set_params(rbf_sampler__n_components=len(data_train))\n",
    "rbf_approx_svm.set_params(svm__C=1)\n",
    "\n",
    "rbf_approx_svm.fit(data_train, labels_train)\n",
    "rbf_approx_svm_score = rbf_approx_svm.score(data_test, labels_test)\n",
    "\n",
    "rbf_approx_svm_time = time() - start\n",
    "\n",
    "print('Score: ', rbf_approx_svm_score)\n",
    "print('Runtime: ', rbf_approx_svm_time)"
   ]
  },
  {
   "cell_type": "code",
   "execution_count": 40,
   "metadata": {},
   "outputs": [
    {
     "name": "stdout",
     "output_type": "stream",
     "text": [
      "Score:  0.8443370907139023\n",
      "Runtime:  8.866598844528198\n"
     ]
    }
   ],
   "source": [
    "start = time()\n",
    "\n",
    "nystroem_approx_svm.set_params(nystroem__n_components=len(data_train))\n",
    "nystroem_approx_svm.set_params(svm__C=1)\n",
    "\n",
    "nystroem_approx_svm.fit(data_train, labels_train)\n",
    "nystroem_approx_svm_score = nystroem_approx_svm.score(data_test, labels_test)\n",
    "\n",
    "nystroem_approx_svm_time = time() - start\n",
    "\n",
    "print('Score: ', nystroem_approx_svm_score)\n",
    "print('Runtime: ', nystroem_approx_svm_time)"
   ]
  },
  {
   "cell_type": "markdown",
   "metadata": {},
   "source": [
    "Taking different number of sample and drawing graph for no. of samples vs accuracy and no. of samples vs training time for every method."
   ]
  },
  {
   "cell_type": "code",
   "execution_count": 41,
   "metadata": {},
   "outputs": [
    {
     "data": {
      "text/plain": [
       "array([ 300,  600,  900, 1200, 1500, 1800])"
      ]
     },
     "execution_count": 41,
     "metadata": {},
     "output_type": "execute_result"
    }
   ],
   "source": [
    "sample_sizes = 300 * np.arange(1, 7)\n",
    "sample_sizes"
   ]
  },
  {
   "cell_type": "code",
   "execution_count": 42,
   "metadata": {},
   "outputs": [],
   "source": [
    "rbf_scores = []\n",
    "nystroem_scores = []\n",
    "\n",
    "rbf_times = []\n",
    "nystroem_times = []"
   ]
  },
  {
   "cell_type": "code",
   "execution_count": 43,
   "metadata": {},
   "outputs": [],
   "source": [
    "for D in sample_sizes:\n",
    "    \n",
    "    rbf_approx_svm.set_params(rbf_sampler__n_components=D)\n",
    "    nystroem_approx_svm.set_params(nystroem__n_components=D)\n",
    "    \n",
    "    start = time()\n",
    "    nystroem_approx_svm.fit(data_train, labels_train)\n",
    "    nystroem_times.append(time() - start)\n",
    "\n",
    "    start = time()\n",
    "    rbf_approx_svm.fit(data_train, labels_train)\n",
    "    rbf_times.append(time() - start)\n",
    "\n",
    "    rbf_score = rbf_approx_svm.score(data_test, labels_test)\n",
    "    nystroem_score = nystroem_approx_svm.score(data_test, labels_test)\n",
    "    \n",
    "    nystroem_scores.append(nystroem_score)\n",
    "    rbf_scores.append(rbf_score)"
   ]
  },
  {
   "cell_type": "code",
   "execution_count": 44,
   "metadata": {},
   "outputs": [
    {
     "data": {
      "text/plain": [
       "[0.7874396135265701,\n",
       " 0.8115942028985508,\n",
       " 0.8336017176596887,\n",
       " 0.8309178743961353,\n",
       " 0.8373590982286635,\n",
       " 0.8373590982286635]"
      ]
     },
     "execution_count": 44,
     "metadata": {},
     "output_type": "execute_result"
    }
   ],
   "source": [
    "rbf_scores"
   ]
  },
  {
   "cell_type": "code",
   "execution_count": 45,
   "metadata": {},
   "outputs": [
    {
     "data": {
      "text/plain": [
       "[0.7213180065155029,\n",
       " 1.043652057647705,\n",
       " 1.548523187637329,\n",
       " 2.2393429279327393,\n",
       " 2.5102529525756836,\n",
       " 3.3066859245300293]"
      ]
     },
     "execution_count": 45,
     "metadata": {},
     "output_type": "execute_result"
    }
   ],
   "source": [
    "rbf_times"
   ]
  },
  {
   "cell_type": "code",
   "execution_count": 46,
   "metadata": {},
   "outputs": [
    {
     "data": {
      "text/plain": [
       "[0.821256038647343,\n",
       " 0.8276972624798712,\n",
       " 0.8378958668813741,\n",
       " 0.8395061728395061,\n",
       " 0.8405797101449275,\n",
       " 0.8432635534084809]"
      ]
     },
     "execution_count": 46,
     "metadata": {},
     "output_type": "execute_result"
    }
   ],
   "source": [
    "nystroem_scores"
   ]
  },
  {
   "cell_type": "code",
   "execution_count": 47,
   "metadata": {},
   "outputs": [
    {
     "data": {
      "text/plain": [
       "[0.6703600883483887,\n",
       " 1.4356410503387451,\n",
       " 2.230088233947754,\n",
       " 3.146836996078491,\n",
       " 4.739742994308472,\n",
       " 9.337486982345581]"
      ]
     },
     "execution_count": 47,
     "metadata": {},
     "output_type": "execute_result"
    }
   ],
   "source": [
    "nystroem_times"
   ]
  },
  {
   "cell_type": "code",
   "execution_count": 48,
   "metadata": {},
   "outputs": [
    {
     "data": {
      "image/png": "[encoded data removed]",
      "text/plain": [
       "<Figure size 1440x720 with 2 Axes>"
      ]
     },
     "metadata": {},
     "output_type": "display_data"
    }
   ],
   "source": [
    "# plot the results:\n",
    "\n",
    "plt.figure(figsize=(20, 10))\n",
    "\n",
    "accuracy = plt.subplot(121)\n",
    "timescale = plt.subplot(122)\n",
    "\n",
    "accuracy.plot(sample_sizes, nystroem_scores, label=\"Nystroem approx. kernel\")\n",
    "timescale.plot(sample_sizes, nystroem_times, '--', label='Nystroem approx. kernel')\n",
    "\n",
    "accuracy.plot(sample_sizes, rbf_scores, label=\"RBF approx. kernel\")\n",
    "timescale.plot(sample_sizes, rbf_times, '--', label='RBF approx. kernel')\n",
    "\n",
    "accuracy.plot([sample_sizes[0], sample_sizes[-1]],\n",
    "              [linear_svm_score, linear_svm_score], label=\"Linear svm\")\n",
    "timescale.plot([sample_sizes[0], sample_sizes[-1]],\n",
    "               [linear_svm_time, linear_svm_time], '--', label='Linear svm')\n",
    "\n",
    "accuracy.plot([sample_sizes[0], sample_sizes[-1]],\n",
    "              [kernel_svm_score, kernel_svm_score], label=\"RBF svm\")\n",
    "timescale.plot([sample_sizes[0], sample_sizes[-1]],\n",
    "               [kernel_svm_time, kernel_svm_time], '--', label='RBF svm')\n",
    "\n",
    "accuracy.set_title(\"Classification accuracy\")\n",
    "timescale.set_title(\"Training times\")\n",
    "\n",
    "accuracy.set_xlim(sample_sizes[0], sample_sizes[-1])\n",
    "accuracy.set_ylim(0.6, 1)\n",
    "\n",
    "accuracy.set_xlabel(\"Sampling steps = transformed feature dimension\")\n",
    "timescale.set_xlabel(\"Sampling steps = transformed feature dimension\")\n",
    "\n",
    "accuracy.set_ylabel(\"Classification accuracy\")\n",
    "timescale.set_ylabel(\"Training time in seconds\")\n",
    "\n",
    "accuracy.legend(loc='best')\n",
    "timescale.legend(loc='best')\n",
    "\n",
    "plt.show()"
   ]
  },
  {
   "cell_type": "code",
   "execution_count": null,
   "metadata": {
    "collapsed": true
   },
   "outputs": [],
   "source": []
  },
  {
   "cell_type": "code",
   "execution_count": null,
   "metadata": {
    "collapsed": true
   },
   "outputs": [],
   "source": []
  },
  {
   "cell_type": "code",
   "execution_count": null,
   "metadata": {
    "collapsed": true
   },
   "outputs": [],
   "source": []
  },
  {
   "cell_type": "code",
   "execution_count": null,
   "metadata": {
    "collapsed": true
   },
   "outputs": [],
   "source": []
  },
  {
   "cell_type": "code",
   "execution_count": null,
   "metadata": {
    "collapsed": true
   },
   "outputs": [],
   "source": []
  }
 ],
 "metadata": {
  "kernelspec": {
   "display_name": "Python 3",
   "language": "python",
   "name": "python3"
  },
  "language_info": {
   "codemirror_mode": {
    "name": "ipython",
    "version": 3
   },
   "file_extension": ".py",
   "mimetype": "text/x-python",
   "name": "python",
   "nbconvert_exporter": "python",
   "pygments_lexer": "ipython3",
   "version": "3.7.3"
  }
 },
 "nbformat": 4,
 "nbformat_minor": 2
}
